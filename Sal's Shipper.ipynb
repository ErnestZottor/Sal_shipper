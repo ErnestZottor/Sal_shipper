{
 "cells": [
  {
   "cell_type": "code",
   "execution_count": 2,
   "id": "23aac770",
   "metadata": {},
   "outputs": [
    {
     "name": "stdout",
     "output_type": "stream",
     "text": [
      "Ground shipping cost: 217.125\n",
      "Premium shipping cost: 125.0\n",
      "Drone shipping cost: 591.375\n"
     ]
    }
   ],
   "source": [
    "weight = 41.5\n",
    "# Ground Shipping\n",
    "flat_charge = 20\n",
    "total_price = 0\n",
    "\n",
    "if weight <=2:\n",
    "    total_price= 1.50*weight + flat_charge\n",
    "    print(\"Ground shipping cost: \"+ str(total_price))\n",
    "\n",
    "\n",
    "elif weight >2 and weight<=6:\n",
    "    total_price= 3.00*weight + flat_charge\n",
    "    print(\"Ground shipping cost: \"+ str(total_price))\n",
    "\n",
    "\n",
    "elif weight >6 and weight<=10:\n",
    "    total_price= 4.00*weight + flat_charge\n",
    "    print(\"Ground shipping cost: \"+ str(total_price))\n",
    "\n",
    "\n",
    "else:\n",
    "    total_price= 4.75*weight + flat_charge\n",
    "    print(\"Ground shipping cost: \"+ str(total_price))\n",
    "\n",
    "# Ground Shipping Premium \n",
    "premium_price = 125.0\n",
    "print(\"Premium shipping cost: \"+ str(premium_price))\n",
    "\n",
    "# Drone Shipping\n",
    "drone_cost_price=0\n",
    "\n",
    "if weight <=2:\n",
    "    drone_cost_price= 4.50*weight\n",
    "    print(\"Drone shipping cost: \"+ str(drone_cost_price))\n",
    "\n",
    "\n",
    "elif weight >2 and weight<=6:\n",
    "    drone_cost_price= 9.00*weight\n",
    "    print(\"Drone shipping cost: \"+ str(drone_cost_price))\n",
    "\n",
    "\n",
    "elif weight >6 and weight<=10:\n",
    "    drone_cost_price= 12.00*weight\n",
    "    print(\"Drone shipping cost: \"+ str(drone_cost_price))\n",
    "\n",
    "\n",
    "else:\n",
    "    drone_cost_price= 14.25*weight \n",
    "    print(\"Drone shipping cost: \"+ str(drone_cost_price))\n"
   ]
  },
  {
   "cell_type": "code",
   "execution_count": 9,
   "id": "e2841c53",
   "metadata": {},
   "outputs": [],
   "source": [
    "# For 4.8 pounds, Ground Shipping is the cheapest :\n",
    "# price = 34.4\n",
    "\n",
    "# For 41.5 pounds, Ground Shipping premeium is the cheapest :\n",
    "# price = 125"
   ]
  }
 ],
 "metadata": {
  "kernelspec": {
   "display_name": "Python 3",
   "language": "python",
   "name": "python3"
  },
  "language_info": {
   "codemirror_mode": {
    "name": "ipython",
    "version": 3
   },
   "file_extension": ".py",
   "mimetype": "text/x-python",
   "name": "python",
   "nbconvert_exporter": "python",
   "pygments_lexer": "ipython3",
   "version": "3.8.8"
  }
 },
 "nbformat": 4,
 "nbformat_minor": 5
}
